{
 "cells": [
  {
   "cell_type": "code",
   "execution_count": 1,
   "id": "634765bd",
   "metadata": {},
   "outputs": [],
   "source": [
    "import numpy as np\n",
    "import pandas as pd\n",
    "from matplotlib import pyplot as plt\n",
    "import struct\n",
    "from array import array\n",
    "from os.path  import join"
   ]
  },
  {
   "cell_type": "code",
   "execution_count": 4,
   "id": "e069e24c",
   "metadata": {},
   "outputs": [
    {
     "name": "stdout",
     "output_type": "stream",
     "text": [
      "42000 785\n",
      "(784, 41000)\n"
     ]
    }
   ],
   "source": [
    "data = pd.read_csv('/home/club/ML_Practice/NPTEL/Data/digit-recognizer/train.csv')\n",
    "data = np.array(data)\n",
    "m, n = data.shape\n",
    "print(m, n)\n",
    "np.random.shuffle(data) # shuffle before splitting into dev and training sets\n",
    "\n",
    "data_dev = data[0:1000].T\n",
    "Y_dev = data_dev[0]\n",
    "X_dev = data_dev[1:n]\n",
    "X_dev = X_dev / 255.\n",
    "\n",
    "data_train = data[1000:m].T\n",
    "Y_train = data_train[0]\n",
    "X_train = data_train[1:n]\n",
    "X_train = X_train / 255.\n",
    "_,m_train = X_train.shape\n",
    "print(X_train.shape)"
   ]
  },
  {
   "cell_type": "code",
   "execution_count": 6,
   "id": "21f40d70",
   "metadata": {},
   "outputs": [],
   "source": [
    "def init_params():\n",
    "    W1 = np.random.rand(64, 784) - 0.5  # ✅ First layer: (hidden_size, input_size)\n",
    "    b1 = np.random.rand(64, 1) - 0.5\n",
    "    W2 = np.random.rand(10, 64) - 0.5   # ✅ Output layer: (num_classes, hidden_size)\n",
    "    b2 = np.random.rand(10, 1) - 0.5\n",
    "    return W1, b1, W2, b2"
   ]
  },
  {
   "cell_type": "code",
   "execution_count": 7,
   "id": "769c12ca",
   "metadata": {},
   "outputs": [],
   "source": [
    "def ReLU(Z):\n",
    "    return np.maximum(0, Z)\n",
    "def softmax(Z):\n",
    "    Z -= np.max(Z, axis=0, keepdims=True)  # ✅ Normalize for numerical stability\n",
    "    return np.exp(Z) / np.sum(np.exp(Z), axis=0, keepdims=True)"
   ]
  },
  {
   "cell_type": "code",
   "execution_count": 8,
   "id": "df743e50",
   "metadata": {},
   "outputs": [],
   "source": [
    "def forward_prop(W1, b1, W2, b2, X):\n",
    "    Z1 = W1.dot(X) + b1\n",
    "    A1 = ReLU(Z1)\n",
    "    Z2 = W2.dot(A1) + b2\n",
    "    A2 = softmax(Z2)\n",
    "    return Z1, A1, Z2, A2"
   ]
  },
  {
   "cell_type": "code",
   "execution_count": 9,
   "id": "4f67552d",
   "metadata": {},
   "outputs": [],
   "source": [
    "def one_hot(Y):\n",
    "    one_hot_Y = np.zeros((Y.size, Y.max() + 1))\n",
    "    one_hot_Y[np.arange(Y.size), Y] = 1\n",
    "    one_hot_Y = one_hot_Y.T\n",
    "    return one_hot_Y"
   ]
  },
  {
   "cell_type": "code",
   "execution_count": 10,
   "id": "2cc2d793",
   "metadata": {},
   "outputs": [],
   "source": [
    "def deriv_ReLU(Z):\n",
    "    return Z > 0"
   ]
  },
  {
   "cell_type": "code",
   "execution_count": 11,
   "id": "df666c51",
   "metadata": {},
   "outputs": [],
   "source": [
    "def backward_prop(Z1, A1, Z2, A2, W1, W2, X, Y):\n",
    "    one_hot_Y = one_hot(Y)\n",
    "    dZ2 = A2 - one_hot_Y\n",
    "    dW2 = 1 / m * dZ2.dot(A1.T)\n",
    "    db2 = 1 / m * np.sum(dZ2)\n",
    "    dZ1 = W2.T.dot(dZ2) * deriv_ReLU(Z1)\n",
    "    dW1 = 1 / m * dZ1.dot(X.T)\n",
    "    db1 = 1 / m * np.sum(dZ1)\n",
    "    return dW1, db1, dW2, db2"
   ]
  },
  {
   "cell_type": "code",
   "execution_count": 12,
   "id": "ed16bc8a",
   "metadata": {},
   "outputs": [],
   "source": [
    "def update_params(W1, b1, W2, b2, dW1, db1, dW2, db2, alpha):\n",
    "    W1 = W1 - alpha*dW1\n",
    "    b1 = b1 - alpha*db1\n",
    "    W2 = W2 - alpha*dW2\n",
    "    b2 = b2 - alpha*db2\n",
    "    return W1, b1, W2, b2"
   ]
  },
  {
   "cell_type": "code",
   "execution_count": 13,
   "id": "d699d669",
   "metadata": {},
   "outputs": [],
   "source": [
    "def get_prediction(A2):\n",
    "    return np.argmax(A2, 0)\n",
    "\n",
    "def get_accuracy(predictions, Y):\n",
    "    print(predictions, Y)\n",
    "    return np.sum(predictions == Y) / Y.size"
   ]
  },
  {
   "cell_type": "code",
   "execution_count": 14,
   "id": "8e59e807",
   "metadata": {},
   "outputs": [],
   "source": [
    "def gradient_descent(X, Y, alpha, iterations):\n",
    "    W1, b1, W2, b2 = init_params()\n",
    "    for i in range(iterations):\n",
    "        Z1, A1, Z2, A2 = forward_prop(W1, b1, W2, b2, X)\n",
    "        dW1, db1, dW2, db2 = backward_prop(Z1, A1, Z2, A2, W1, W2, X, Y)\n",
    "        W1, b1, W2, b2 = update_params(W1, b1, W2, b2, dW1, db1, dW2, db2, alpha)\n",
    "        if i % 10 == 0:\n",
    "            print(\"Iteration: \", i)\n",
    "            predictions = get_prediction(A2)\n",
    "            print(get_accuracy(predictions, Y))\n",
    "    return W1, b1, W2, b2"
   ]
  },
  {
   "cell_type": "code",
   "execution_count": 15,
   "id": "0ca88ce6",
   "metadata": {
    "scrolled": false
   },
   "outputs": [
    {
     "name": "stdout",
     "output_type": "stream",
     "text": [
      "Iteration:  0\n",
      "[1 1 3 ... 2 2 9] [6 6 5 ... 7 4 1]\n",
      "0.15104878048780487\n",
      "Iteration:  10\n",
      "[6 6 3 ... 7 4 5] [6 6 5 ... 7 4 1]\n",
      "0.4865853658536585\n",
      "Iteration:  20\n",
      "[6 6 3 ... 7 4 1] [6 6 5 ... 7 4 1]\n",
      "0.6061463414634146\n",
      "Iteration:  30\n",
      "[6 6 3 ... 7 4 1] [6 6 5 ... 7 4 1]\n",
      "0.668829268292683\n",
      "Iteration:  40\n",
      "[6 6 3 ... 7 4 1] [6 6 5 ... 7 4 1]\n",
      "0.7087560975609756\n",
      "Iteration:  50\n",
      "[6 6 3 ... 7 4 1] [6 6 5 ... 7 4 1]\n",
      "0.7361463414634146\n",
      "Iteration:  60\n",
      "[6 6 3 ... 7 4 1] [6 6 5 ... 7 4 1]\n",
      "0.757390243902439\n",
      "Iteration:  70\n",
      "[6 6 3 ... 7 4 1] [6 6 5 ... 7 4 1]\n",
      "0.7728048780487805\n",
      "Iteration:  80\n",
      "[6 6 5 ... 7 4 1] [6 6 5 ... 7 4 1]\n",
      "0.7865365853658537\n",
      "Iteration:  90\n",
      "[6 6 5 ... 7 4 1] [6 6 5 ... 7 4 1]\n",
      "0.7970975609756098\n",
      "Iteration:  100\n",
      "[6 6 5 ... 7 4 1] [6 6 5 ... 7 4 1]\n",
      "0.8057804878048781\n",
      "Iteration:  110\n",
      "[6 6 5 ... 7 4 1] [6 6 5 ... 7 4 1]\n",
      "0.8129756097560975\n",
      "Iteration:  120\n",
      "[6 6 5 ... 7 4 1] [6 6 5 ... 7 4 1]\n",
      "0.8192682926829268\n",
      "Iteration:  130\n",
      "[6 6 5 ... 7 4 1] [6 6 5 ... 7 4 1]\n",
      "0.8248780487804878\n",
      "Iteration:  140\n",
      "[6 6 5 ... 7 4 1] [6 6 5 ... 7 4 1]\n",
      "0.8302926829268292\n",
      "Iteration:  150\n",
      "[6 6 5 ... 7 4 1] [6 6 5 ... 7 4 1]\n",
      "0.8353658536585366\n",
      "Iteration:  160\n",
      "[6 6 5 ... 7 4 1] [6 6 5 ... 7 4 1]\n",
      "0.8398048780487805\n",
      "Iteration:  170\n",
      "[6 6 5 ... 7 4 1] [6 6 5 ... 7 4 1]\n",
      "0.8434146341463414\n",
      "Iteration:  180\n",
      "[6 6 5 ... 7 4 1] [6 6 5 ... 7 4 1]\n",
      "0.8467317073170731\n",
      "Iteration:  190\n",
      "[6 6 5 ... 7 4 1] [6 6 5 ... 7 4 1]\n",
      "0.8496585365853658\n",
      "Iteration:  200\n",
      "[6 6 5 ... 7 4 1] [6 6 5 ... 7 4 1]\n",
      "0.8522439024390244\n",
      "Iteration:  210\n",
      "[6 6 5 ... 7 4 1] [6 6 5 ... 7 4 1]\n",
      "0.8552682926829268\n",
      "Iteration:  220\n",
      "[6 6 5 ... 7 4 1] [6 6 5 ... 7 4 1]\n",
      "0.858\n",
      "Iteration:  230\n",
      "[6 6 5 ... 7 4 1] [6 6 5 ... 7 4 1]\n",
      "0.8600487804878049\n",
      "Iteration:  240\n",
      "[6 6 5 ... 7 4 1] [6 6 5 ... 7 4 1]\n",
      "0.8621219512195122\n",
      "Iteration:  250\n",
      "[6 6 5 ... 7 4 1] [6 6 5 ... 7 4 1]\n",
      "0.8641707317073171\n",
      "Iteration:  260\n",
      "[6 6 5 ... 7 4 1] [6 6 5 ... 7 4 1]\n",
      "0.8662439024390244\n",
      "Iteration:  270\n",
      "[6 6 5 ... 7 4 1] [6 6 5 ... 7 4 1]\n",
      "0.8684146341463415\n",
      "Iteration:  280\n",
      "[6 6 5 ... 7 4 1] [6 6 5 ... 7 4 1]\n",
      "0.8700243902439024\n",
      "Iteration:  290\n",
      "[6 6 5 ... 7 4 1] [6 6 5 ... 7 4 1]\n",
      "0.8721219512195122\n",
      "Iteration:  300\n",
      "[6 6 5 ... 7 4 1] [6 6 5 ... 7 4 1]\n",
      "0.8738292682926829\n",
      "Iteration:  310\n",
      "[6 6 5 ... 7 4 1] [6 6 5 ... 7 4 1]\n",
      "0.874780487804878\n",
      "Iteration:  320\n",
      "[6 6 5 ... 7 4 1] [6 6 5 ... 7 4 1]\n",
      "0.8763658536585366\n",
      "Iteration:  330\n",
      "[6 6 5 ... 7 4 1] [6 6 5 ... 7 4 1]\n",
      "0.8774634146341463\n",
      "Iteration:  340\n",
      "[6 6 5 ... 7 4 1] [6 6 5 ... 7 4 1]\n",
      "0.8788292682926829\n",
      "Iteration:  350\n",
      "[6 6 5 ... 7 4 1] [6 6 5 ... 7 4 1]\n",
      "0.8798780487804878\n",
      "Iteration:  360\n",
      "[6 6 5 ... 7 4 1] [6 6 5 ... 7 4 1]\n",
      "0.881\n",
      "Iteration:  370\n",
      "[6 6 5 ... 7 4 1] [6 6 5 ... 7 4 1]\n",
      "0.882219512195122\n",
      "Iteration:  380\n",
      "[6 6 5 ... 7 4 1] [6 6 5 ... 7 4 1]\n",
      "0.8834878048780488\n",
      "Iteration:  390\n",
      "[6 6 5 ... 7 4 1] [6 6 5 ... 7 4 1]\n",
      "0.8849756097560976\n",
      "Iteration:  400\n",
      "[6 6 5 ... 7 4 1] [6 6 5 ... 7 4 1]\n",
      "0.886219512195122\n",
      "Iteration:  410\n",
      "[6 6 5 ... 7 4 1] [6 6 5 ... 7 4 1]\n",
      "0.8873414634146342\n",
      "Iteration:  420\n",
      "[6 6 5 ... 7 4 1] [6 6 5 ... 7 4 1]\n",
      "0.8880487804878049\n",
      "Iteration:  430\n",
      "[6 6 5 ... 7 4 1] [6 6 5 ... 7 4 1]\n",
      "0.8891707317073171\n",
      "Iteration:  440\n",
      "[6 6 5 ... 7 4 1] [6 6 5 ... 7 4 1]\n",
      "0.8902439024390244\n",
      "Iteration:  450\n",
      "[6 6 5 ... 7 4 1] [6 6 5 ... 7 4 1]\n",
      "0.8912926829268293\n",
      "Iteration:  460\n",
      "[6 6 5 ... 7 4 1] [6 6 5 ... 7 4 1]\n",
      "0.8924878048780488\n",
      "Iteration:  470\n",
      "[6 6 5 ... 7 4 1] [6 6 5 ... 7 4 1]\n",
      "0.8934878048780488\n",
      "Iteration:  480\n",
      "[6 6 5 ... 7 4 1] [6 6 5 ... 7 4 1]\n",
      "0.8941463414634147\n",
      "Iteration:  490\n",
      "[6 6 5 ... 7 4 1] [6 6 5 ... 7 4 1]\n",
      "0.8949756097560976\n"
     ]
    }
   ],
   "source": [
    "W1, b1, W2, b2 = gradient_descent(X_train, Y_train, 0.1, 500)"
   ]
  },
  {
   "cell_type": "code",
   "execution_count": 17,
   "id": "8d6704e9",
   "metadata": {},
   "outputs": [],
   "source": [
    "def make_predictions(X, W1, b1, W2, b2):\n",
    "    _, _, _, A2 = forward_prop(W1, b1, W2, b2, X)\n",
    "    predictions = get_prediction(A2)\n",
    "    return predictions\n",
    "\n",
    "def test_prediction(index, W1, b1, W2, b2):\n",
    "    current_image = X_train[:, index, None]\n",
    "    prediction = make_predictions(X_train[:, index, None], W1, b1, W2, b2)\n",
    "    label = Y_train[index]\n",
    "    print(\"Prediction: \", prediction)\n",
    "    print(\"Label: \", label)\n",
    "    \n",
    "    current_image = current_image.reshape((28, 28)) * 255\n",
    "    plt.gray()\n",
    "    plt.imshow(current_image, interpolation='nearest')\n",
    "    plt.show()"
   ]
  },
  {
   "cell_type": "code",
   "execution_count": 18,
   "id": "f6207add",
   "metadata": {},
   "outputs": [
    {
     "name": "stdout",
     "output_type": "stream",
     "text": [
      "Prediction:  [6]\n",
      "Label:  6\n"
     ]
    },
    {
     "data": {
      "image/png": "[encoded data removed]",
      "text/plain": [
       "<Figure size 640x480 with 1 Axes>"
      ]
     },
     "metadata": {},
     "output_type": "display_data"
    },
    {
     "name": "stdout",
     "output_type": "stream",
     "text": [
      "Prediction:  [6]\n",
      "Label:  6\n"
     ]
    },
    {
     "data": {
      "image/png": "[encoded data removed]",
      "text/plain": [
       "<Figure size 640x480 with 1 Axes>"
      ]
     },
     "metadata": {},
     "output_type": "display_data"
    },
    {
     "name": "stdout",
     "output_type": "stream",
     "text": [
      "Prediction:  [5]\n",
      "Label:  5\n"
     ]
    },
    {
     "data": {
      "image/png": "[encoded data removed]",
      "text/plain": [
       "<Figure size 640x480 with 1 Axes>"
      ]
     },
     "metadata": {},
     "output_type": "display_data"
    },
    {
     "name": "stdout",
     "output_type": "stream",
     "text": [
      "Prediction:  [1]\n",
      "Label:  3\n"
     ]
    },
    {
     "data": {
      "image/png": "[encoded data removed]",
      "text/plain": [
       "<Figure size 640x480 with 1 Axes>"
      ]
     },
     "metadata": {},
     "output_type": "display_data"
    }
   ],
   "source": [
    "test_prediction(0, W1, b1, W2, b2)\n",
    "test_prediction(1, W1, b1, W2, b2)\n",
    "test_prediction(2, W1, b1, W2, b2)\n",
    "test_prediction(3, W1, b1, W2, b2)"
   ]
  },
  {
   "cell_type": "code",
   "execution_count": 19,
   "id": "96b4b42a",
   "metadata": {},
   "outputs": [
    {
     "name": "stdout",
     "output_type": "stream",
     "text": [
      "[6 6 1 1 8 1 9 5 8 0 1 8 7 3 9 5 1 4 2 9 8 9 4 0 6 2 2 6 9 5 9 7 7 2 0 9 1\n",
      " 2 1 4 7 1 7 4 5 0 6 0 7 2 6 5 3 7 9 1 4 0 6 0 1 8 7 0 3 2 6 4 4 0 5 3 2 8\n",
      " 0 4 9 3 7 1 9 8 7 3 3 5 1 3 7 8 6 8 0 8 2 9 2 6 5 3 1 8 1 1 6 9 5 0 6 9 1\n",
      " 7 5 1 2 9 0 2 8 0 1 1 1 5 3 3 5 4 0 4 3 6 8 3 7 6 7 0 3 9 1 4 1 4 5 5 9 0\n",
      " 4 9 7 7 6 7 9 8 7 7 7 3 2 3 2 5 4 0 9 9 1 5 6 6 8 7 0 3 7 8 7 5 3 1 9 9 0\n",
      " 5 4 8 1 2 6 2 7 8 5 8 8 5 0 3 6 7 0 1 1 0 9 9 6 5 0 7 1 2 9 7 9 7 4 1 1 5\n",
      " 8 2 6 1 6 9 8 2 5 6 6 3 2 2 0 0 6 0 1 6 3 4 1 7 1 4 3 3 2 9 1 1 7 2 6 1 7\n",
      " 8 5 8 1 2 7 3 8 7 9 3 0 8 5 6 8 3 0 2 2 0 5 5 6 4 3 5 8 7 3 8 7 9 4 2 6 0\n",
      " 6 7 3 3 0 6 3 9 6 2 8 7 0 7 6 1 7 6 1 5 0 8 1 0 3 5 9 3 3 1 9 4 0 9 2 8 3\n",
      " 7 0 6 0 5 2 5 0 4 4 5 0 6 7 2 5 4 6 9 1 6 7 3 5 6 0 3 3 6 4 9 0 4 3 7 4 2\n",
      " 1 2 3 1 7 9 2 6 9 0 3 2 7 3 6 7 5 0 6 5 3 0 4 6 6 0 2 1 3 9 5 9 3 8 5 6 2\n",
      " 4 3 6 1 5 1 2 7 3 3 4 1 1 7 5 8 1 9 8 6 4 1 2 7 3 0 5 1 6 7 4 8 9 9 7 1 6\n",
      " 3 6 0 0 5 2 4 1 3 2 5 5 7 4 1 0 3 9 5 1 6 2 0 6 3 2 8 8 8 2 9 7 6 4 6 7 1\n",
      " 8 0 0 0 0 4 4 6 8 5 0 4 2 9 5 0 1 1 1 8 3 4 4 5 6 8 1 7 2 3 6 0 9 5 9 4 3\n",
      " 9 1 8 3 0 1 6 3 2 7 7 8 8 0 2 9 2 5 2 8 3 1 3 5 4 3 8 9 1 7 6 9 9 8 7 7 2\n",
      " 3 1 3 6 7 5 4 4 2 3 6 2 6 3 7 1 4 4 4 7 8 7 7 3 9 1 7 1 0 3 3 9 4 6 7 2 6\n",
      " 9 7 7 1 3 9 9 7 7 8 6 6 5 3 9 6 8 6 4 4 9 8 7 9 6 8 8 3 9 6 9 2 3 8 2 3 9\n",
      " 1 7 6 3 4 3 5 4 5 8 9 3 3 1 6 0 7 1 6 7 0 0 4 4 2 5 6 4 1 3 5 2 3 6 5 7 9\n",
      " 1 6 9 2 3 7 4 5 2 3 5 3 1 5 8 5 9 4 2 9 7 1 3 5 3 7 5 6 1 7 9 2 9 2 5 7 8\n",
      " 3 2 4 7 3 5 9 8 9 2 5 3 5 4 0 9 7 2 1 5 1 4 7 3 7 2 9 3 7 7 7 4 9 5 5 8 8\n",
      " 4 1 1 3 3 5 5 6 6 0 7 7 3 1 0 9 3 1 6 4 0 3 0 3 9 5 1 2 1 3 6 4 8 4 1 5 8\n",
      " 7 8 0 1 1 8 7 8 8 0 0 5 4 6 0 1 5 4 1 2 7 8 4 2 0 8 6 4 2 0 3 7 1 2 4 6 7\n",
      " 1 8 5 8 1 7 6 5 1 1 6 9 1 1 8 6 3 6 5 2 7 0 2 4 0 4 0 0 5 5 1 4 1 5 1 0 4\n",
      " 6 1 3 8 0 3 0 8 1 7 4 8 9 6 4 8 0 3 3 6 0 0 7 9 7 3 2 2 1 2 5 2 7 7 5 7 9\n",
      " 4 2 7 7 6 6 7 4 3 1 6 8 0 6 5 6 1 7 7 2 0 1 9 1 3 7 5 3 4 0 0 3 2 0 2 1 9\n",
      " 2 4 7 6 7 9 2 8 6 1 2 4 6 0 6 8 6 3 3 8 9 1 8 0 8 3 0 7 3 5 8 4 5 8 0 4 6\n",
      " 0 6 5 5 8 3 6 3 4 9 1 4 0 9 8 0 5 5 8 1 5 2 2 3 6 9 8 4 4 7 1 2 1 0 3 9 3\n",
      " 0] [6 6 1 1 8 1 9 5 8 0 1 8 7 3 9 5 1 4 2 9 8 9 4 5 6 7 2 6 9 5 4 7 7 4 0 9 1\n",
      " 2 1 4 7 1 7 4 3 0 6 0 7 2 6 5 3 7 9 1 6 0 6 0 1 8 7 0 3 2 6 4 4 0 5 3 4 8\n",
      " 0 4 9 3 7 1 9 8 7 3 3 5 1 3 7 8 6 8 0 8 1 9 8 6 5 3 1 8 1 1 6 4 5 0 6 9 1\n",
      " 7 5 1 2 7 0 2 8 0 1 1 1 5 3 3 8 4 0 4 3 6 8 3 7 6 7 0 3 9 1 4 1 4 5 5 9 0\n",
      " 4 1 7 7 6 7 9 2 7 7 7 3 5 9 2 8 4 0 9 7 1 5 3 6 8 7 0 3 9 8 7 0 3 1 9 9 0\n",
      " 1 4 8 1 2 6 2 7 8 5 8 8 5 0 8 6 7 0 1 1 0 9 4 6 3 0 7 1 2 9 7 7 7 4 1 1 5\n",
      " 8 2 6 1 6 9 8 2 5 5 6 3 2 2 0 0 6 0 1 6 3 4 1 7 1 4 3 3 2 9 1 1 4 2 6 1 7\n",
      " 4 3 8 1 2 7 3 8 7 9 3 0 8 5 6 8 3 0 2 2 3 5 5 6 4 3 5 0 7 3 8 7 9 4 2 6 0\n",
      " 6 7 3 3 0 6 3 9 6 9 6 7 5 7 0 1 7 6 1 5 5 8 1 0 3 5 9 3 3 1 9 4 0 9 2 8 3\n",
      " 7 0 6 0 9 2 5 0 4 4 5 0 6 7 2 5 4 6 4 1 0 7 3 5 6 0 3 3 6 4 9 0 4 3 7 4 2\n",
      " 1 2 5 1 9 9 2 6 9 0 5 2 7 3 6 7 5 0 6 5 3 0 4 6 6 0 2 1 3 9 5 4 7 2 5 6 2\n",
      " 4 3 6 1 5 1 2 7 3 3 9 1 1 7 5 8 1 9 5 6 4 1 5 7 3 0 5 1 2 7 4 8 9 9 7 1 6\n",
      " 3 4 0 0 3 2 4 1 3 2 5 5 7 4 1 0 3 9 5 1 4 2 0 6 2 2 8 8 8 2 0 7 6 4 6 7 1\n",
      " 8 0 0 0 0 4 9 6 8 5 0 4 2 9 5 0 1 1 1 8 3 4 4 5 6 8 1 7 2 3 6 0 7 5 9 4 3\n",
      " 9 1 8 3 0 1 6 3 3 7 7 8 8 0 7 9 6 5 2 8 5 1 8 5 4 5 8 9 1 7 6 9 9 8 7 7 2\n",
      " 3 1 3 6 7 5 4 4 2 3 5 2 6 3 7 1 4 4 4 7 8 7 7 3 9 1 7 1 0 9 3 9 4 6 7 2 6\n",
      " 9 7 7 1 3 9 4 3 7 8 6 6 5 3 9 6 8 6 4 4 9 8 7 9 6 8 8 3 9 6 9 2 9 8 2 3 9\n",
      " 1 7 6 3 7 3 8 9 5 8 9 3 3 1 6 0 7 1 6 7 0 0 4 9 8 5 6 4 1 3 5 2 3 6 5 7 9\n",
      " 1 6 9 2 3 7 9 5 2 3 5 3 1 5 8 5 9 4 2 9 7 1 3 5 3 7 5 6 1 7 9 2 9 2 5 7 8\n",
      " 3 2 4 7 3 5 9 8 9 2 5 6 5 4 0 8 7 2 1 5 1 4 7 2 7 2 9 3 7 7 7 4 9 8 2 8 8\n",
      " 4 1 1 3 3 5 5 6 6 0 7 7 3 1 0 9 5 1 6 4 0 3 0 9 9 5 1 2 1 3 6 9 8 4 1 5 8\n",
      " 7 8 0 1 1 8 7 0 8 0 0 6 4 6 0 1 5 4 1 2 7 8 6 2 0 3 6 2 2 0 3 7 1 2 4 6 9\n",
      " 1 8 5 5 1 7 2 5 1 8 6 9 1 1 5 6 5 6 5 2 7 0 2 4 0 4 0 0 5 5 8 4 1 5 1 0 4\n",
      " 6 1 3 3 0 3 0 8 1 7 4 8 4 6 4 9 0 3 3 6 0 0 7 9 7 5 2 2 1 2 5 2 7 7 5 7 9\n",
      " 4 2 7 7 6 6 7 4 3 1 6 8 0 6 3 6 1 7 7 2 0 1 9 1 3 7 5 3 4 0 0 3 2 0 2 1 7\n",
      " 2 4 7 6 7 9 2 8 6 1 2 4 6 0 6 8 6 3 5 8 9 1 8 0 8 3 0 9 3 5 3 4 5 8 0 4 6\n",
      " 0 6 8 5 8 3 6 3 4 9 1 4 0 7 8 0 5 5 9 1 5 2 2 3 6 4 8 2 4 7 1 2 1 0 5 9 3\n",
      " 0]\n"
     ]
    },
    {
     "data": {
      "text/plain": [
       "np.float64(0.891)"
      ]
     },
     "execution_count": 19,
     "metadata": {},
     "output_type": "execute_result"
    }
   ],
   "source": [
    "dev_predictions = make_predictions(X_dev, W1, b1, W2, b2)\n",
    "get_accuracy(dev_predictions, Y_dev)"
   ]
  },
  {
   "cell_type": "code",
   "execution_count": null,
   "id": "d978e70a",
   "metadata": {},
   "outputs": [],
   "source": []
  }
 ],
 "metadata": {
  "kernelspec": {
   "display_name": "Python (myenv)",
   "language": "python",
   "name": "myenv"
  },
  "language_info": {
   "codemirror_mode": {
    "name": "ipython",
    "version": 3
   },
   "file_extension": ".py",
   "mimetype": "text/x-python",
   "name": "python",
   "nbconvert_exporter": "python",
   "pygments_lexer": "ipython3",
   "version": "3.12.8"
  }
 },
 "nbformat": 4,
 "nbformat_minor": 5
}
